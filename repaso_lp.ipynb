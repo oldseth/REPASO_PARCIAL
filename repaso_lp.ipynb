{
 "cells": [
  {
   "cell_type": "markdown",
   "id": "b15b89b1",
   "metadata": {},
   "source": [
    "tareas:\n",
    "- hacer fichero pc1\n",
    "- hacer latex\n",
    "- subir a git"
   ]
  }
 ],
 "metadata": {
  "kernelspec": {
   "display_name": "Python 3 (ipykernel)",
   "language": "python",
   "name": "python3"
  },
  "language_info": {
   "codemirror_mode": {
    "name": "ipython",
    "version": 3
   },
   "file_extension": ".py",
   "mimetype": "text/x-python",
   "name": "python",
   "nbconvert_exporter": "python",
   "pygments_lexer": "ipython3",
   "version": "3.11.5"
  }
 },
 "nbformat": 4,
 "nbformat_minor": 5
}
